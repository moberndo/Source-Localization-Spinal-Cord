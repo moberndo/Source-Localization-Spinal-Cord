{
 "cells": [
  {
   "cell_type": "code",
   "execution_count": 14,
   "metadata": {},
   "outputs": [],
   "source": [
    "from ngsolve import *\n",
    "from netgen.csg import CSGeometry\n",
    "#from netgen.gui import Draw\n"
   ]
  },
  {
   "cell_type": "code",
   "execution_count": 15,
   "metadata": {},
   "outputs": [],
   "source": [
    "from math import pi\n",
    "\n",
    "def CreateParamsGeom(geom_str):\n",
    "    geom_param = geom_str.rsplit(';')\n",
    "    perimeter_neck = float(geom_param[0]) / 100\n",
    "    Inion_C7_dist = float(geom_param[1]) / 100\n",
    "    C7_L5_dist = float(geom_param[2]) / 100\n",
    "\n",
    "    avg_neck_rad = 0.06\n",
    "\n",
    "    ##### NECK ######\n",
    "    rad_neck = perimeter_neck / (2*pi)      # 0.06\n",
    "    loc_neck = rad_neck * 0.5\n",
    "    len_neck = Inion_C7_dist * 0.9\n",
    "\n",
    "    params_neck = [rad_neck, loc_neck, len_neck]\n",
    "\n",
    "    ##### SPINAL CORD #####\n",
    "    len_spine = len_neck + C7_L5_dist             # 0.7\n",
    "    rad_spine = 0.01\n",
    "\n",
    "    params_spine = [len_spine, rad_spine]\n",
    "\n",
    "    ##### DISCS ######\n",
    "    height_cervic_disc = 0.003\n",
    "    height_thorac_disc = 0.005\n",
    "    height_lumbar_disc = 0.006\n",
    "\n",
    "    params_disc = [height_cervic_disc, height_thorac_disc, height_lumbar_disc]\n",
    "\n",
    "    #### Cervical Vertebraes ####\n",
    "\n",
    "    vert_cervic_height = (len_neck - 6 * height_cervic_disc) / 7\n",
    "    # Atlas\n",
    "    atlas_height = vert_cervic_height\n",
    "    atlas_rad1 = ...\n",
    "    atlas_rad2 = ...\n",
    "\n",
    "    params_atlas = [atlas_height, atlas_rad1, atlas_rad2]\n",
    "\n",
    "    # Axis\n",
    "    axis_height = ...\n",
    "    ...\n",
    "    params_axis = [axis_height]\n",
    "\n",
    "    # C3-C7\n",
    "    C3C7_height = ...\n",
    "    C3C7_rad_foramen = ...\n",
    "    C3C7_rad_vert_body = ...\n",
    "\n",
    "    params_C3C7 = [C3C7_height]\n",
    "    # Combined\n",
    "\n",
    "    params_vertebrae = [params_atlas, params_axis, params_C3C7]\n",
    "\n",
    "    ##### COMBINED #####\n",
    "\n",
    "    params_geom = [params_spine, params_vertebrae ,params_disc ,params_neck]#, params_trachea, params_oesoph]\n",
    "    \n",
    "\n",
    "    return params_geom"
   ]
  },
  {
   "cell_type": "code",
   "execution_count": 16,
   "metadata": {},
   "outputs": [],
   "source": [
    "from ngsolve import Mesh, Draw\n",
    "from netgen.csg import Cylinder, OrthoBrick, CSGeometry, Pnt\n",
    "from math import pi\n",
    "\n",
    "def CreateAtlas(params_geom):\n",
    "    # \n",
    "    len_spine = params_geom[0][0]\n",
    "    height_atlas = params_geom[1][0][0]\n",
    "    \n",
    "    start_atlas = len_spine\n",
    "    end_atlas = len_spine - height_atlas\n",
    "    #print(len_spine, height_atlas, start_atlas, end_atlas)\n",
    "    atlas_ = Cylinder(Pnt(0,0,0), Pnt(0,0,1), 0.2)\n",
    "    atlas = OrthoBrick(Pnt(-1,-1,start_atlas), Pnt(1,1,end_atlas)) * atlas_\n",
    "    return atlas, end_atlas\n",
    "\n",
    "def CreateAxis():\n",
    "    ...\n",
    "    return axis, end_axis\n",
    "\n",
    "def CreateC3C7():\n",
    "    ...\n",
    "    return C3C7, end_C3C7\n",
    "\n",
    "def CreateVertDiscs():\n",
    "    ...\n",
    "\n",
    "\n",
    "def CreateVertebraelSpine(params_geom):\n",
    "    atlas, end_atlas = CreateAtlas(params_geom)\n",
    "\n",
    "    return atlas"
   ]
  },
  {
   "cell_type": "code",
   "execution_count": 17,
   "metadata": {},
   "outputs": [
    {
     "ename": "",
     "evalue": "",
     "output_type": "error",
     "traceback": [
      "\u001b[1;31mThe Kernel crashed while executing code in the the current cell or a previous cell. Please review the code in the cell(s) to identify a possible cause of the failure. Click <a href='https://aka.ms/vscodeJupyterKernelCrash'>here</a> for more info. View Jupyter <a href='command:jupyter.viewOutput'>log</a> for further details."
     ]
    }
   ],
   "source": [
    "geom_str = '39;15;50'\n",
    "params_geom = CreateParamsGeom(geom_str)\n",
    "\n",
    "geo = CSGeometry()\n",
    "atlas = CreateVertebraelSpine(params_geom)\n",
    "\n",
    "geo.Add(atlas.mat('bone'))\n",
    "\n",
    "mesh = geo.GenerateMesh(maxh = 0.005)\n",
    "mesh = Mesh(mesh)\n",
    "Draw(mesh)"
   ]
  },
  {
   "cell_type": "code",
   "execution_count": null,
   "metadata": {},
   "outputs": [],
   "source": []
  }
 ],
 "metadata": {
  "kernelspec": {
   "display_name": "base",
   "language": "python",
   "name": "python3"
  },
  "language_info": {
   "codemirror_mode": {
    "name": "ipython",
    "version": 3
   },
   "file_extension": ".py",
   "mimetype": "text/x-python",
   "name": "python",
   "nbconvert_exporter": "python",
   "pygments_lexer": "ipython3",
   "version": "3.10.6"
  },
  "orig_nbformat": 4
 },
 "nbformat": 4,
 "nbformat_minor": 2
}
